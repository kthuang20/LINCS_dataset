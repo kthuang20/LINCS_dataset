{
 "cells": [
  {
   "cell_type": "code",
   "execution_count": 1,
   "id": "a826f303-3598-4189-8d49-e7028df21b45",
   "metadata": {},
   "outputs": [],
   "source": [
    "# import necessary packages\n",
    "import pandas as pd"
   ]
  },
  {
   "cell_type": "markdown",
   "id": "462dbdc7-19fc-4abf-8647-1a92f216b3d1",
   "metadata": {},
   "source": [
    "## Preparing the Drug Repurposing Hub Indications"
   ]
  },
  {
   "cell_type": "markdown",
   "id": "3531cb20-5a65-4f66-a278-b3d70c9def26",
   "metadata": {},
   "source": [
    "#### *1. Import the indications from the Drug Repurposing Hub*"
   ]
  },
  {
   "cell_type": "markdown",
   "id": "786182d4-825b-41dc-b402-a14af1288c40",
   "metadata": {},
   "source": [
    "This file was taken from the Broad Institute's Drug Repurposing Hub:\n",
    "https://repo-hub.broadinstitute.org/repurposing#download-data"
   ]
  },
  {
   "cell_type": "code",
   "execution_count": 2,
   "id": "1905d702-97b7-4110-808b-be19d2b58fe9",
   "metadata": {},
   "outputs": [
    {
     "data": {
      "text/html": [
       "<div>\n",
       "<style scoped>\n",
       "    .dataframe tbody tr th:only-of-type {\n",
       "        vertical-align: middle;\n",
       "    }\n",
       "\n",
       "    .dataframe tbody tr th {\n",
       "        vertical-align: top;\n",
       "    }\n",
       "\n",
       "    .dataframe thead th {\n",
       "        text-align: right;\n",
       "    }\n",
       "</style>\n",
       "<table border=\"1\" class=\"dataframe\">\n",
       "  <thead>\n",
       "    <tr style=\"text-align: right;\">\n",
       "      <th></th>\n",
       "      <th>pert_iname</th>\n",
       "      <th>indication</th>\n",
       "    </tr>\n",
       "  </thead>\n",
       "  <tbody>\n",
       "    <tr>\n",
       "      <th>0</th>\n",
       "      <td>(R)-(-)-apomorphine</td>\n",
       "      <td>Parkinson's Disease</td>\n",
       "    </tr>\n",
       "    <tr>\n",
       "      <th>32</th>\n",
       "      <td>abacavir</td>\n",
       "      <td>human immunodeficiency virus (HIV-1)</td>\n",
       "    </tr>\n",
       "    <tr>\n",
       "      <th>34</th>\n",
       "      <td>abamectin</td>\n",
       "      <td>gastrointestinal parasites</td>\n",
       "    </tr>\n",
       "    <tr>\n",
       "      <th>39</th>\n",
       "      <td>abemaciclib</td>\n",
       "      <td>breast cancer</td>\n",
       "    </tr>\n",
       "    <tr>\n",
       "      <th>40</th>\n",
       "      <td>abiraterone</td>\n",
       "      <td>prostate cancer</td>\n",
       "    </tr>\n",
       "  </tbody>\n",
       "</table>\n",
       "</div>"
      ],
      "text/plain": [
       "             pert_iname                            indication\n",
       "0   (R)-(-)-apomorphine                   Parkinson's Disease\n",
       "32             abacavir  human immunodeficiency virus (HIV-1)\n",
       "34            abamectin            gastrointestinal parasites\n",
       "39          abemaciclib                         breast cancer\n",
       "40          abiraterone                       prostate cancer"
      ]
     },
     "execution_count": 2,
     "metadata": {},
     "output_type": "execute_result"
    }
   ],
   "source": [
    "# import the drug repurposing hub indications\n",
    "file_path = '~/LINCS/ref_data/drug_ind/repurposing_drugs_20200324.txt'\n",
    "drug_repo = pd.read_csv(file_path, sep='\\t', usecols=['pert_iname', 'indication'], skiprows=9)\n",
    "# remove drugs that do not have any indication\n",
    "drug_repo = drug_repo[drug_repo['indication'].notna()]\n",
    "drug_repo.head()"
   ]
  },
  {
   "cell_type": "code",
   "execution_count": 3,
   "id": "1aceafad-ed25-44d6-91e0-0d9cbede9817",
   "metadata": {},
   "outputs": [
    {
     "data": {
      "text/plain": [
       "2222"
      ]
     },
     "execution_count": 3,
     "metadata": {},
     "output_type": "execute_result"
    }
   ],
   "source": [
    "# number of unique drugs available with indications\n",
    "len(drug_repo['pert_iname'].unique())"
   ]
  },
  {
   "cell_type": "code",
   "execution_count": 4,
   "id": "3e57cbfc-3b18-488a-b3f3-2182a5b5e400",
   "metadata": {},
   "outputs": [
    {
     "data": {
      "text/html": [
       "<div>\n",
       "<style scoped>\n",
       "    .dataframe tbody tr th:only-of-type {\n",
       "        vertical-align: middle;\n",
       "    }\n",
       "\n",
       "    .dataframe tbody tr th {\n",
       "        vertical-align: top;\n",
       "    }\n",
       "\n",
       "    .dataframe thead th {\n",
       "        text-align: right;\n",
       "    }\n",
       "</style>\n",
       "<table border=\"1\" class=\"dataframe\">\n",
       "  <thead>\n",
       "    <tr style=\"text-align: right;\">\n",
       "      <th></th>\n",
       "      <th>pert_iname</th>\n",
       "      <th>indication</th>\n",
       "    </tr>\n",
       "  </thead>\n",
       "  <tbody>\n",
       "    <tr>\n",
       "      <th>0</th>\n",
       "      <td>(R)-(-)-apomorphine</td>\n",
       "      <td>Parkinson's Disease</td>\n",
       "    </tr>\n",
       "    <tr>\n",
       "      <th>1</th>\n",
       "      <td>abacavir</td>\n",
       "      <td>human immunodeficiency virus (HIV-1)</td>\n",
       "    </tr>\n",
       "    <tr>\n",
       "      <th>2</th>\n",
       "      <td>abamectin</td>\n",
       "      <td>gastrointestinal parasites</td>\n",
       "    </tr>\n",
       "    <tr>\n",
       "      <th>3</th>\n",
       "      <td>abemaciclib</td>\n",
       "      <td>breast cancer</td>\n",
       "    </tr>\n",
       "    <tr>\n",
       "      <th>4</th>\n",
       "      <td>abiraterone</td>\n",
       "      <td>prostate cancer</td>\n",
       "    </tr>\n",
       "  </tbody>\n",
       "</table>\n",
       "</div>"
      ],
      "text/plain": [
       "            pert_iname                            indication\n",
       "0  (R)-(-)-apomorphine                   Parkinson's Disease\n",
       "1             abacavir  human immunodeficiency virus (HIV-1)\n",
       "2            abamectin            gastrointestinal parasites\n",
       "3          abemaciclib                         breast cancer\n",
       "4          abiraterone                       prostate cancer"
      ]
     },
     "execution_count": 4,
     "metadata": {},
     "output_type": "execute_result"
    }
   ],
   "source": [
    "# split the 'indication' column and create a new series with duplicated rows for each indication\n",
    "inds = drug_repo['indication'].str.split('|', expand=True).stack().reset_index(level=1, drop=True).rename('indication')\n",
    "# create a new dataframe that maps each drug to one indication\n",
    "drug_repo_ind = drug_repo.drop(columns='indication').join(inds).reset_index()\n",
    "# keep only the name of drug, drug id, and the indication\n",
    "drug_repo_ind = drug_repo_ind[['pert_iname', 'indication']]\n",
    "drug_repo_ind.head()"
   ]
  },
  {
   "cell_type": "markdown",
   "id": "6aa0bb5a-63ea-4adb-8c44-583061192c25",
   "metadata": {},
   "source": [
    "#### *2. Import the standardized format for the indications (created by Panos)*"
   ]
  },
  {
   "cell_type": "code",
   "execution_count": 5,
   "id": "2924749d-5367-4a94-b50d-cb78acbc7e43",
   "metadata": {},
   "outputs": [
    {
     "data": {
      "text/html": [
       "<div>\n",
       "<style scoped>\n",
       "    .dataframe tbody tr th:only-of-type {\n",
       "        vertical-align: middle;\n",
       "    }\n",
       "\n",
       "    .dataframe tbody tr th {\n",
       "        vertical-align: top;\n",
       "    }\n",
       "\n",
       "    .dataframe thead th {\n",
       "        text-align: right;\n",
       "    }\n",
       "</style>\n",
       "<table border=\"1\" class=\"dataframe\">\n",
       "  <thead>\n",
       "    <tr style=\"text-align: right;\">\n",
       "      <th></th>\n",
       "      <th>indication</th>\n",
       "      <th>mesh_term</th>\n",
       "    </tr>\n",
       "  </thead>\n",
       "  <tbody>\n",
       "    <tr>\n",
       "      <th>0</th>\n",
       "      <td>Parkinson's Disease</td>\n",
       "      <td>Parkinson Disease</td>\n",
       "    </tr>\n",
       "    <tr>\n",
       "      <th>1</th>\n",
       "      <td>human immunodeficiency virus (HIV-1)</td>\n",
       "      <td>HIV</td>\n",
       "    </tr>\n",
       "    <tr>\n",
       "      <th>3</th>\n",
       "      <td>breast cancer</td>\n",
       "      <td>Breast Neoplasms</td>\n",
       "    </tr>\n",
       "    <tr>\n",
       "      <th>4</th>\n",
       "      <td>prostate cancer</td>\n",
       "      <td>Prostatic Neoplasms</td>\n",
       "    </tr>\n",
       "    <tr>\n",
       "      <th>5</th>\n",
       "      <td>mantle cell lymphoma (MCL)</td>\n",
       "      <td>Lymphoma, Mantle-Cell</td>\n",
       "    </tr>\n",
       "  </tbody>\n",
       "</table>\n",
       "</div>"
      ],
      "text/plain": [
       "                             indication              mesh_term\n",
       "0                   Parkinson's Disease      Parkinson Disease\n",
       "1  human immunodeficiency virus (HIV-1)                    HIV\n",
       "3                         breast cancer       Breast Neoplasms\n",
       "4                       prostate cancer    Prostatic Neoplasms\n",
       "5            mantle cell lymphoma (MCL)  Lymphoma, Mantle-Cell"
      ]
     },
     "execution_count": 5,
     "metadata": {},
     "output_type": "execute_result"
    }
   ],
   "source": [
    "# import the mesh strings for the indication in the Drug Repurposing Hub\n",
    "file_path = '~/LINCS/ref_data/drug_ind/indications_to_mesh_normalizedString.txt'\n",
    "ind_mesh_terms = pd.read_csv(file_path, usecols=['indication', 'mesh_term'], sep='\\t')\n",
    "# remove indications without any mesh terms\n",
    "ind_mesh_terms = ind_mesh_terms[ind_mesh_terms['mesh_term'].notna()]\n",
    "# remove mesh code\n",
    "ind_mesh_terms.head()"
   ]
  },
  {
   "cell_type": "markdown",
   "id": "519ae638-5bb1-4a6e-b7f6-63cdbf23b04f",
   "metadata": {},
   "source": [
    "#### *3. Replace the Drug Repurposing Hub indications with the standardized terms*"
   ]
  },
  {
   "cell_type": "code",
   "execution_count": 6,
   "id": "6b958f05-45e0-4a97-99eb-aed971dab5d3",
   "metadata": {},
   "outputs": [
    {
     "data": {
      "text/html": [
       "<div>\n",
       "<style scoped>\n",
       "    .dataframe tbody tr th:only-of-type {\n",
       "        vertical-align: middle;\n",
       "    }\n",
       "\n",
       "    .dataframe tbody tr th {\n",
       "        vertical-align: top;\n",
       "    }\n",
       "\n",
       "    .dataframe thead th {\n",
       "        text-align: right;\n",
       "    }\n",
       "</style>\n",
       "<table border=\"1\" class=\"dataframe\">\n",
       "  <thead>\n",
       "    <tr style=\"text-align: right;\">\n",
       "      <th></th>\n",
       "      <th>pert_iname</th>\n",
       "      <th>indication</th>\n",
       "    </tr>\n",
       "  </thead>\n",
       "  <tbody>\n",
       "    <tr>\n",
       "      <th>0</th>\n",
       "      <td>(R)-(-)-apomorphine</td>\n",
       "      <td>Parkinson Disease</td>\n",
       "    </tr>\n",
       "    <tr>\n",
       "      <th>1</th>\n",
       "      <td>amantadine</td>\n",
       "      <td>Parkinson Disease</td>\n",
       "    </tr>\n",
       "    <tr>\n",
       "      <th>2</th>\n",
       "      <td>benserazide</td>\n",
       "      <td>Parkinson Disease</td>\n",
       "    </tr>\n",
       "    <tr>\n",
       "      <th>3</th>\n",
       "      <td>benztropine-mesylate</td>\n",
       "      <td>Parkinson Disease</td>\n",
       "    </tr>\n",
       "    <tr>\n",
       "      <th>4</th>\n",
       "      <td>biperiden</td>\n",
       "      <td>Parkinson Disease</td>\n",
       "    </tr>\n",
       "  </tbody>\n",
       "</table>\n",
       "</div>"
      ],
      "text/plain": [
       "             pert_iname         indication\n",
       "0   (R)-(-)-apomorphine  Parkinson Disease\n",
       "1            amantadine  Parkinson Disease\n",
       "2           benserazide  Parkinson Disease\n",
       "3  benztropine-mesylate  Parkinson Disease\n",
       "4             biperiden  Parkinson Disease"
      ]
     },
     "execution_count": 6,
     "metadata": {},
     "output_type": "execute_result"
    }
   ],
   "source": [
    "# create dataframe that contains the mesh terms for indications available for the drugs\n",
    "drug_repo_mesh = pd.merge(drug_repo_ind, ind_mesh_terms, on='indication', how='inner').drop('indication', axis=1)\n",
    "# rename the columns\n",
    "drug_repo_mesh.columns = ['pert_iname', 'indication']\n",
    "drug_repo_mesh.head()"
   ]
  },
  {
   "cell_type": "code",
   "execution_count": 7,
   "id": "ef842feb-0ebc-4a3f-9395-4e39b841f3d3",
   "metadata": {},
   "outputs": [
    {
     "data": {
      "text/plain": [
       "1944"
      ]
     },
     "execution_count": 7,
     "metadata": {},
     "output_type": "execute_result"
    }
   ],
   "source": [
    "# number of unique drugs available with standard indications\n",
    "len(drug_repo_mesh['pert_iname'].unique())"
   ]
  },
  {
   "cell_type": "markdown",
   "id": "f7af896b-910f-48bd-95ad-afc54cf1566b",
   "metadata": {},
   "source": [
    "#### *4. Add the indications of the drugs that were used in LINCS dataset*"
   ]
  },
  {
   "cell_type": "code",
   "execution_count": 8,
   "id": "92a40ce2-661a-43c7-9603-8f3c187ca631",
   "metadata": {},
   "outputs": [
    {
     "data": {
      "text/html": [
       "<div>\n",
       "<style scoped>\n",
       "    .dataframe tbody tr th:only-of-type {\n",
       "        vertical-align: middle;\n",
       "    }\n",
       "\n",
       "    .dataframe tbody tr th {\n",
       "        vertical-align: top;\n",
       "    }\n",
       "\n",
       "    .dataframe thead th {\n",
       "        text-align: right;\n",
       "    }\n",
       "</style>\n",
       "<table border=\"1\" class=\"dataframe\">\n",
       "  <thead>\n",
       "    <tr style=\"text-align: right;\">\n",
       "      <th></th>\n",
       "      <th>inchi_key</th>\n",
       "      <th>pert_iname</th>\n",
       "    </tr>\n",
       "  </thead>\n",
       "  <tbody>\n",
       "    <tr>\n",
       "      <th>0</th>\n",
       "      <td>GYBXAGDWMCJZJK-UHFFFAOYSA-N</td>\n",
       "      <td>10-DEBC</td>\n",
       "    </tr>\n",
       "    <tr>\n",
       "      <th>1</th>\n",
       "      <td>PHEDXBVPIONUQT-RGYGYFBISA-N</td>\n",
       "      <td>phorbol-myristate-acetate</td>\n",
       "    </tr>\n",
       "    <tr>\n",
       "      <th>2</th>\n",
       "      <td>QAOBBBBDJSWHMU-WMBBNPMCSA-N</td>\n",
       "      <td>16,16-dimethylprostaglandin-e2</td>\n",
       "    </tr>\n",
       "    <tr>\n",
       "      <th>3</th>\n",
       "      <td>DOMWKUIIPQCAJU-JKPPDDDBSA-N</td>\n",
       "      <td>17-hydroxyprogesterone-caproate</td>\n",
       "    </tr>\n",
       "    <tr>\n",
       "      <th>4</th>\n",
       "      <td>WWVANQJRLPIHNS-ZKWXMUAHSA-N</td>\n",
       "      <td>2-iminobiotin</td>\n",
       "    </tr>\n",
       "  </tbody>\n",
       "</table>\n",
       "</div>"
      ],
      "text/plain": [
       "                     inchi_key                       pert_iname\n",
       "0  GYBXAGDWMCJZJK-UHFFFAOYSA-N                          10-DEBC\n",
       "1  PHEDXBVPIONUQT-RGYGYFBISA-N        phorbol-myristate-acetate\n",
       "2  QAOBBBBDJSWHMU-WMBBNPMCSA-N   16,16-dimethylprostaglandin-e2\n",
       "3  DOMWKUIIPQCAJU-JKPPDDDBSA-N  17-hydroxyprogesterone-caproate\n",
       "4  WWVANQJRLPIHNS-ZKWXMUAHSA-N                    2-iminobiotin"
      ]
     },
     "execution_count": 8,
     "metadata": {},
     "output_type": "execute_result"
    }
   ],
   "source": [
    "# import the perturbagens used in the LINCS dataset\n",
    "file_path = '~/LINCS/ref_data/GSE70138_Broad_LINCS_pert_info.txt'\n",
    "LINCS_drugs = pd.read_csv(file_path, sep='\\t', usecols=['inchi_key', 'pert_id', 'pert_iname', 'pert_type'])\n",
    "# remove the duplicate rows of drugs\n",
    "LINCS_drugs.drop_duplicates(subset=['pert_iname'], keep='first', inplace=True)\n",
    "# keep only the drugs used\n",
    "LINCS_drugs = LINCS_drugs[LINCS_drugs['pert_type'] == 'trt_cp'].drop(columns=['pert_type', 'pert_id'], axis=1)\n",
    "LINCS_drugs.head()"
   ]
  },
  {
   "cell_type": "code",
   "execution_count": 9,
   "id": "86b14358-9760-481d-9033-7d048ba6a9fd",
   "metadata": {},
   "outputs": [
    {
     "data": {
      "text/html": [
       "<div>\n",
       "<style scoped>\n",
       "    .dataframe tbody tr th:only-of-type {\n",
       "        vertical-align: middle;\n",
       "    }\n",
       "\n",
       "    .dataframe tbody tr th {\n",
       "        vertical-align: top;\n",
       "    }\n",
       "\n",
       "    .dataframe thead th {\n",
       "        text-align: right;\n",
       "    }\n",
       "</style>\n",
       "<table border=\"1\" class=\"dataframe\">\n",
       "  <thead>\n",
       "    <tr style=\"text-align: right;\">\n",
       "      <th></th>\n",
       "      <th>pert_iname</th>\n",
       "      <th>indication</th>\n",
       "    </tr>\n",
       "  </thead>\n",
       "  <tbody>\n",
       "    <tr>\n",
       "      <th>0</th>\n",
       "      <td>5-aminolevulinic-acid</td>\n",
       "      <td>Keratosis, Actinic</td>\n",
       "    </tr>\n",
       "    <tr>\n",
       "      <th>1</th>\n",
       "      <td>5-aminolevulinic-acid</td>\n",
       "      <td>Glioma</td>\n",
       "    </tr>\n",
       "    <tr>\n",
       "      <th>2</th>\n",
       "      <td>abacavir</td>\n",
       "      <td>HIV</td>\n",
       "    </tr>\n",
       "    <tr>\n",
       "      <th>3</th>\n",
       "      <td>abiraterone-acetate</td>\n",
       "      <td>Prostatic Neoplasms</td>\n",
       "    </tr>\n",
       "    <tr>\n",
       "      <th>4</th>\n",
       "      <td>acarbose</td>\n",
       "      <td>Diabetes Mellitus</td>\n",
       "    </tr>\n",
       "  </tbody>\n",
       "</table>\n",
       "</div>"
      ],
      "text/plain": [
       "              pert_iname           indication\n",
       "0  5-aminolevulinic-acid   Keratosis, Actinic\n",
       "1  5-aminolevulinic-acid               Glioma\n",
       "2               abacavir                  HIV\n",
       "3    abiraterone-acetate  Prostatic Neoplasms\n",
       "4               acarbose    Diabetes Mellitus"
      ]
     },
     "execution_count": 9,
     "metadata": {},
     "output_type": "execute_result"
    }
   ],
   "source": [
    "# add the indications for the drugs available in the Drug Repurposing Hub\n",
    "LINCS_drug_repo = pd.merge(LINCS_drugs.drop('inchi_key', axis=1), drug_repo_mesh, on='pert_iname', how='inner')\n",
    "# save file to the same directory\n",
    "#LINCS_drug_repo.to_csv('~/LINCS/ref_data/drug_ind/processed/LINCS_drug_repo.txt', index=False)\n",
    "LINCS_drug_repo.head()"
   ]
  },
  {
   "cell_type": "code",
   "execution_count": 10,
   "id": "591ca7c4-f359-4979-b441-594e85f6ad8d",
   "metadata": {},
   "outputs": [
    {
     "data": {
      "text/plain": [
       "800"
      ]
     },
     "execution_count": 10,
     "metadata": {},
     "output_type": "execute_result"
    }
   ],
   "source": [
    "# show the number of drugs available\n",
    "len(LINCS_drug_repo['pert_iname'].unique())"
   ]
  },
  {
   "cell_type": "code",
   "execution_count": 11,
   "id": "e7e15ef8-918a-48cb-9d69-7c83310bb266",
   "metadata": {},
   "outputs": [
    {
     "data": {
      "text/plain": [
       "341"
      ]
     },
     "execution_count": 11,
     "metadata": {},
     "output_type": "execute_result"
    }
   ],
   "source": [
    "# show the number of unique indications available\n",
    "len(LINCS_drug_repo['indication'].unique())"
   ]
  },
  {
   "cell_type": "code",
   "execution_count": 12,
   "id": "ba105fa4-b2b0-4e0c-a790-f9594e92dde3",
   "metadata": {},
   "outputs": [
    {
     "data": {
      "text/plain": [
       "(1368, 2)"
      ]
     },
     "execution_count": 12,
     "metadata": {},
     "output_type": "execute_result"
    }
   ],
   "source": [
    "LINCS_drug_repo.shape"
   ]
  },
  {
   "cell_type": "markdown",
   "id": "5219586e-1d19-428d-b3c8-33a336b6518f",
   "metadata": {},
   "source": [
    "#### *5. Create a collapsed version of indications, with each row being all indications for one unique drug*"
   ]
  },
  {
   "cell_type": "code",
   "execution_count": 13,
   "id": "d5fca1d7-72b2-40da-be5e-3b79b58fff4d",
   "metadata": {},
   "outputs": [
    {
     "data": {
      "text/html": [
       "<div>\n",
       "<style scoped>\n",
       "    .dataframe tbody tr th:only-of-type {\n",
       "        vertical-align: middle;\n",
       "    }\n",
       "\n",
       "    .dataframe tbody tr th {\n",
       "        vertical-align: top;\n",
       "    }\n",
       "\n",
       "    .dataframe thead th {\n",
       "        text-align: right;\n",
       "    }\n",
       "</style>\n",
       "<table border=\"1\" class=\"dataframe\">\n",
       "  <thead>\n",
       "    <tr style=\"text-align: right;\">\n",
       "      <th></th>\n",
       "      <th>pert_iname</th>\n",
       "      <th>indication</th>\n",
       "    </tr>\n",
       "  </thead>\n",
       "  <tbody>\n",
       "    <tr>\n",
       "      <th>0</th>\n",
       "      <td>5-aminolevulinic-acid</td>\n",
       "      <td>Keratosis, Actinic|Glioma</td>\n",
       "    </tr>\n",
       "    <tr>\n",
       "      <th>1</th>\n",
       "      <td>L-citrulline</td>\n",
       "      <td>Hypertension|Erectile Dysfunction</td>\n",
       "    </tr>\n",
       "    <tr>\n",
       "      <th>2</th>\n",
       "      <td>SN-38</td>\n",
       "      <td>Colorectal Neoplasms</td>\n",
       "    </tr>\n",
       "    <tr>\n",
       "      <th>3</th>\n",
       "      <td>abacavir</td>\n",
       "      <td>HIV</td>\n",
       "    </tr>\n",
       "    <tr>\n",
       "      <th>4</th>\n",
       "      <td>abiraterone-acetate</td>\n",
       "      <td>Prostatic Neoplasms</td>\n",
       "    </tr>\n",
       "  </tbody>\n",
       "</table>\n",
       "</div>"
      ],
      "text/plain": [
       "              pert_iname                         indication\n",
       "0  5-aminolevulinic-acid          Keratosis, Actinic|Glioma\n",
       "1           L-citrulline  Hypertension|Erectile Dysfunction\n",
       "2                  SN-38               Colorectal Neoplasms\n",
       "3               abacavir                                HIV\n",
       "4    abiraterone-acetate                Prostatic Neoplasms"
      ]
     },
     "execution_count": 13,
     "metadata": {},
     "output_type": "execute_result"
    }
   ],
   "source": [
    "# create another version with all indications for one drug\n",
    "collapsed_drug_repo = LINCS_drug_repo.groupby('pert_iname')['indication'].agg(lambda row: '|'.join(row)).reset_index()\n",
    "# save file to the same directory\n",
    "#collapsed_drug_repo.to_csv('~/LINCS/ref_data/drug_ind/processed/collapsed_drug_repo_lincs_ind.txt', index=False)\n",
    "collapsed_drug_repo.head()"
   ]
  },
  {
   "cell_type": "markdown",
   "id": "484e5888-70e3-4b66-a0f0-3ee68cdf28ab",
   "metadata": {},
   "source": [
    "## Importing the Known Indications of LINCS drugs from RxNorm"
   ]
  },
  {
   "cell_type": "markdown",
   "id": "ac5b0eb5-1f0b-4b62-989b-8370e0d044c8",
   "metadata": {},
   "source": [
    "#### *1. Get the InchiKeys for the drugs from the RXNorm API*\n",
    "    a. Extracted the DrugBank IDs from the rxnorm mapped drugs to their indication using the following bash command:\n",
    "    \n",
    "    cut -f1 all_drugs_rxnorm_indications.txt | tail -n +2 > rxnorm_drugbank_id.txt\n",
    "\n",
    "    b. Get the respective InchiKeys for the drugs using [PubChem](https://pubchem.ncbi.nlm.nih.gov/idexchange/idexchange.cgi), saved as rxnorm_drugbank_inchikey.txt\n"
   ]
  },
  {
   "cell_type": "markdown",
   "id": "00219475-2b10-41bc-8e8b-646bafb6c27f",
   "metadata": {},
   "source": [
    "#### *2. Import the clinical indications available from RXNorm API*"
   ]
  },
  {
   "cell_type": "code",
   "execution_count": 14,
   "id": "41343f00-7ed8-4d7a-a048-9bf278a4b085",
   "metadata": {},
   "outputs": [
    {
     "data": {
      "text/html": [
       "<div>\n",
       "<style scoped>\n",
       "    .dataframe tbody tr th:only-of-type {\n",
       "        vertical-align: middle;\n",
       "    }\n",
       "\n",
       "    .dataframe tbody tr th {\n",
       "        vertical-align: top;\n",
       "    }\n",
       "\n",
       "    .dataframe thead th {\n",
       "        text-align: right;\n",
       "    }\n",
       "</style>\n",
       "<table border=\"1\" class=\"dataframe\">\n",
       "  <thead>\n",
       "    <tr style=\"text-align: right;\">\n",
       "      <th></th>\n",
       "      <th>drug_name</th>\n",
       "      <th>indication</th>\n",
       "    </tr>\n",
       "  </thead>\n",
       "  <tbody>\n",
       "    <tr>\n",
       "      <th>0</th>\n",
       "      <td>Lepirudin</td>\n",
       "      <td>Angina, Unstable</td>\n",
       "    </tr>\n",
       "    <tr>\n",
       "      <th>1</th>\n",
       "      <td>Lepirudin</td>\n",
       "      <td>Thrombocytopenia</td>\n",
       "    </tr>\n",
       "    <tr>\n",
       "      <th>2</th>\n",
       "      <td>Lepirudin</td>\n",
       "      <td>Thromboembolism</td>\n",
       "    </tr>\n",
       "    <tr>\n",
       "      <th>3</th>\n",
       "      <td>Lepirudin</td>\n",
       "      <td>Myocardial Ischemia</td>\n",
       "    </tr>\n",
       "    <tr>\n",
       "      <th>4</th>\n",
       "      <td>Cetuximab</td>\n",
       "      <td>Carcinoma, Squamous Cell</td>\n",
       "    </tr>\n",
       "  </tbody>\n",
       "</table>\n",
       "</div>"
      ],
      "text/plain": [
       "   drug_name                indication\n",
       "0  Lepirudin          Angina, Unstable\n",
       "1  Lepirudin          Thrombocytopenia\n",
       "2  Lepirudin           Thromboembolism\n",
       "3  Lepirudin       Myocardial Ischemia\n",
       "4  Cetuximab  Carcinoma, Squamous Cell"
      ]
     },
     "execution_count": 14,
     "metadata": {},
     "output_type": "execute_result"
    }
   ],
   "source": [
    "# import the indications from rxnorm API\n",
    "file_path = '~/LINCS/ref_data/drug_ind/all_drugs_rxnorm_indications.txt'\n",
    "rxnorm_ind = pd.read_csv(file_path, sep='\\t', usecols=['drug_name','indication'])\n",
    "rxnorm_ind.head()"
   ]
  },
  {
   "cell_type": "code",
   "execution_count": 15,
   "id": "8a6c7c35-653b-4753-9db4-fb7bb863f4c5",
   "metadata": {},
   "outputs": [
    {
     "data": {
      "text/html": [
       "<div>\n",
       "<style scoped>\n",
       "    .dataframe tbody tr th:only-of-type {\n",
       "        vertical-align: middle;\n",
       "    }\n",
       "\n",
       "    .dataframe tbody tr th {\n",
       "        vertical-align: top;\n",
       "    }\n",
       "\n",
       "    .dataframe thead th {\n",
       "        text-align: right;\n",
       "    }\n",
       "</style>\n",
       "<table border=\"1\" class=\"dataframe\">\n",
       "  <thead>\n",
       "    <tr style=\"text-align: right;\">\n",
       "      <th></th>\n",
       "      <th>drug_name</th>\n",
       "      <th>indication</th>\n",
       "      <th>drugbank_id</th>\n",
       "      <th>inchi_key</th>\n",
       "    </tr>\n",
       "  </thead>\n",
       "  <tbody>\n",
       "    <tr>\n",
       "      <th>13</th>\n",
       "      <td>Bivalirudin</td>\n",
       "      <td>Angina, Unstable</td>\n",
       "      <td>DB00006</td>\n",
       "      <td>OIRCOABEOLEUMC-GEJPAHFPSA-N</td>\n",
       "    </tr>\n",
       "    <tr>\n",
       "      <th>14</th>\n",
       "      <td>Bivalirudin</td>\n",
       "      <td>Thromboembolism</td>\n",
       "      <td>DB00006</td>\n",
       "      <td>OIRCOABEOLEUMC-GEJPAHFPSA-N</td>\n",
       "    </tr>\n",
       "    <tr>\n",
       "      <th>15</th>\n",
       "      <td>Bivalirudin</td>\n",
       "      <td>Myocardial Ischemia</td>\n",
       "      <td>DB00006</td>\n",
       "      <td>OIRCOABEOLEUMC-GEJPAHFPSA-N</td>\n",
       "    </tr>\n",
       "    <tr>\n",
       "      <th>16</th>\n",
       "      <td>Leuprolide</td>\n",
       "      <td>Breast Neoplasms</td>\n",
       "      <td>DB00007</td>\n",
       "      <td>GFIJNRVAKGFPGQ-LIJARHBVSA-N</td>\n",
       "    </tr>\n",
       "    <tr>\n",
       "      <th>17</th>\n",
       "      <td>Leuprolide</td>\n",
       "      <td>Endometriosis</td>\n",
       "      <td>DB00007</td>\n",
       "      <td>GFIJNRVAKGFPGQ-LIJARHBVSA-N</td>\n",
       "    </tr>\n",
       "  </tbody>\n",
       "</table>\n",
       "</div>"
      ],
      "text/plain": [
       "      drug_name           indication drugbank_id                    inchi_key\n",
       "13  Bivalirudin     Angina, Unstable     DB00006  OIRCOABEOLEUMC-GEJPAHFPSA-N\n",
       "14  Bivalirudin      Thromboembolism     DB00006  OIRCOABEOLEUMC-GEJPAHFPSA-N\n",
       "15  Bivalirudin  Myocardial Ischemia     DB00006  OIRCOABEOLEUMC-GEJPAHFPSA-N\n",
       "16   Leuprolide     Breast Neoplasms     DB00007  GFIJNRVAKGFPGQ-LIJARHBVSA-N\n",
       "17   Leuprolide        Endometriosis     DB00007  GFIJNRVAKGFPGQ-LIJARHBVSA-N"
      ]
     },
     "execution_count": 15,
     "metadata": {},
     "output_type": "execute_result"
    }
   ],
   "source": [
    "# read in the inchikeys for the rxnorm indications\n",
    "file_path = '~/LINCS/ref_data/drug_ind/rxnorm_drugbank_inchikey.txt'\n",
    "drugbank_inchikey = pd.read_csv(file_path, sep='\\t', names=['drugbank_id','inchi_key'])\n",
    "# add the inchi keys to the drugs in RxNorm\n",
    "rxnorm_ind_inchi = pd.concat([rxnorm_ind, drugbank_inchikey], axis=1)\n",
    "# remove the the drugs without an inchikey\n",
    "rxnorm_ind_inchi = rxnorm_ind_inchi[rxnorm_ind_inchi['inchi_key'].notna()]\n",
    "rxnorm_ind_inchi.head()"
   ]
  },
  {
   "cell_type": "markdown",
   "id": "9008aada-c53f-47ff-910f-b01eaa4eaa1d",
   "metadata": {},
   "source": [
    "#### *3. Add the clinical indications to drugs used in the LINCS dataset*"
   ]
  },
  {
   "cell_type": "code",
   "execution_count": 16,
   "id": "37999364-0a48-4f3d-9f0e-7061ec8642e2",
   "metadata": {},
   "outputs": [
    {
     "data": {
      "text/html": [
       "<div>\n",
       "<style scoped>\n",
       "    .dataframe tbody tr th:only-of-type {\n",
       "        vertical-align: middle;\n",
       "    }\n",
       "\n",
       "    .dataframe tbody tr th {\n",
       "        vertical-align: top;\n",
       "    }\n",
       "\n",
       "    .dataframe thead th {\n",
       "        text-align: right;\n",
       "    }\n",
       "</style>\n",
       "<table border=\"1\" class=\"dataframe\">\n",
       "  <thead>\n",
       "    <tr style=\"text-align: right;\">\n",
       "      <th></th>\n",
       "      <th>pert_iname</th>\n",
       "      <th>indication</th>\n",
       "      <th>drugbank_id</th>\n",
       "    </tr>\n",
       "  </thead>\n",
       "  <tbody>\n",
       "    <tr>\n",
       "      <th>12</th>\n",
       "      <td>5-aminolevulinic-acid</td>\n",
       "      <td>Keratosis, Actinic</td>\n",
       "      <td>DB00855</td>\n",
       "    </tr>\n",
       "    <tr>\n",
       "      <th>13</th>\n",
       "      <td>fluorouracil</td>\n",
       "      <td>Breast Neoplasms</td>\n",
       "      <td>DB00544</td>\n",
       "    </tr>\n",
       "    <tr>\n",
       "      <th>14</th>\n",
       "      <td>fluorouracil</td>\n",
       "      <td>Carcinoma, Basal Cell</td>\n",
       "      <td>DB00544</td>\n",
       "    </tr>\n",
       "    <tr>\n",
       "      <th>15</th>\n",
       "      <td>fluorouracil</td>\n",
       "      <td>Colonic Neoplasms</td>\n",
       "      <td>DB00544</td>\n",
       "    </tr>\n",
       "    <tr>\n",
       "      <th>16</th>\n",
       "      <td>fluorouracil</td>\n",
       "      <td>Head and Neck Neoplasms</td>\n",
       "      <td>DB00544</td>\n",
       "    </tr>\n",
       "  </tbody>\n",
       "</table>\n",
       "</div>"
      ],
      "text/plain": [
       "               pert_iname               indication drugbank_id\n",
       "12  5-aminolevulinic-acid       Keratosis, Actinic     DB00855\n",
       "13           fluorouracil         Breast Neoplasms     DB00544\n",
       "14           fluorouracil    Carcinoma, Basal Cell     DB00544\n",
       "15           fluorouracil        Colonic Neoplasms     DB00544\n",
       "16           fluorouracil  Head and Neck Neoplasms     DB00544"
      ]
     },
     "execution_count": 16,
     "metadata": {},
     "output_type": "execute_result"
    }
   ],
   "source": [
    "# add the clinical indications for drugs available in the LINCS dataset\n",
    "LINCS_rxnorm = LINCS_drugs.merge(rxnorm_ind_inchi, on='inchi_key', how='left').drop(columns=['inchi_key', 'drug_name'], axis=1)\n",
    "# remove drugs not associated with any indications\n",
    "LINCS_rxnorm = LINCS_rxnorm[LINCS_rxnorm['indication'].notna()]\n",
    "LINCS_rxnorm.head()"
   ]
  },
  {
   "cell_type": "code",
   "execution_count": 17,
   "id": "62de768a-1952-48aa-ad0c-e63728196659",
   "metadata": {},
   "outputs": [
    {
     "data": {
      "text/plain": [
       "580"
      ]
     },
     "execution_count": 17,
     "metadata": {},
     "output_type": "execute_result"
    }
   ],
   "source": [
    "# number of unique LINCS drugs in rxnorm\n",
    "len(LINCS_rxnorm['pert_iname'].unique())"
   ]
  },
  {
   "cell_type": "code",
   "execution_count": 18,
   "id": "8c1aeada-a1dc-40bc-9e76-da97f3f8416b",
   "metadata": {},
   "outputs": [
    {
     "data": {
      "text/plain": [
       "1946"
      ]
     },
     "execution_count": 18,
     "metadata": {},
     "output_type": "execute_result"
    }
   ],
   "source": [
    "# number of known LINCS drug-indication pairs from RxNorm\n",
    "len(LINCS_rxnorm)"
   ]
  },
  {
   "cell_type": "markdown",
   "id": "fd5f158e-08b5-4ba8-84d9-b5698bc46e2f",
   "metadata": {
    "tags": []
   },
   "source": [
    "## Import the Known and Clinical Indications of Drugs from AACT"
   ]
  },
  {
   "cell_type": "markdown",
   "id": "f7212f77-3538-471c-83e8-9e2f2a21f0b1",
   "metadata": {},
   "source": [
    "#### *a. Import the known the clinical drug-indications from AACT with InChi keys*"
   ]
  },
  {
   "cell_type": "code",
   "execution_count": 19,
   "id": "ad7ad03f-6a08-4e89-b92b-c2be9e528b6b",
   "metadata": {},
   "outputs": [],
   "source": [
    "# import the indications from AACT\n",
    "file_path = '~/LINCS/ref_data/drug_ind/clinical_trials_phase_indication_drugDBid.txt'\n",
    "aact_ind = pd.read_csv(file_path, sep='\\t', usecols=['phase', 'indication', 'drug_drugbank_id', 'drug_drugbank_name'])\n",
    "\n",
    "# remove drug-indication pairs not in a phase\n",
    "aact_ind = aact_ind[aact_ind['phase'].notna()]\n",
    "aact_ind = aact_ind[~(aact_ind['phase'] == 'Not Applicable')]\n",
    "                    \n",
    "# remove duplicate rows\n",
    "aact_ind = aact_ind.drop_duplicates()\n",
    "\n",
    "# rename the drug_drugbank_name\n",
    "aact_ind.rename(columns={'drug_drugbank_id': 'drugbank_id'}, inplace=True)\n",
    "\n",
    "# add the drug bank ids to the drugs in AACT\n",
    "aact_ind_inchi = pd.merge(aact_ind, drugbank_inchikey.drop_duplicates(), on='drugbank_id', how='inner')\n",
    "\n",
    "# remove drugs that do not have an inchi key\n",
    "aact_ind_inchi = aact_ind_inchi[aact_ind_inchi['inchi_key'].notna()]"
   ]
  },
  {
   "cell_type": "code",
   "execution_count": 20,
   "id": "4552b94f-38f2-4d8c-b70d-a1da8e97f575",
   "metadata": {},
   "outputs": [
    {
     "name": "stdout",
     "output_type": "stream",
     "text": [
      "Number of unique clinical drug-indication pairs: 24741\n",
      "Number of unique known drug-indication pairs: 10393\n"
     ]
    }
   ],
   "source": [
    "# store the AACT indications of drugs used in the LINCS dataset\n",
    "LINCS_aact = pd.merge(LINCS_drugs, aact_ind_inchi.drop('drug_drugbank_name', axis=1), on='inchi_key', how='inner')\n",
    "\n",
    "# remove inchi key column\n",
    "LINCS_aact.drop('inchi_key', axis=1, inplace=True)\n",
    "\n",
    "# store boolean series whether each drug-indication pair is known (in Phase 4)\n",
    "is_known_ind = LINCS_aact['phase'] == 'Phase 4'\n",
    "\n",
    "# store the clinical drug-indications (in Phase 1-3)\n",
    "LINCS_aact_clin = LINCS_aact[~is_known_ind].drop('phase', axis=1)\n",
    "# remove duplicate drug-indication pairs\n",
    "LINCS_aact_clin.drop_duplicates(inplace=True)\n",
    "\n",
    "# store the known drug-indication pairs\n",
    "LINCS_aact_known = LINCS_aact[is_known_ind].drop('phase', axis=1)\n",
    "\n",
    "# combine the known indications from AACT and RXNorm for LINCS drugs\n",
    "aact_rxnorm_known = pd.concat([LINCS_rxnorm, LINCS_aact_known], sort=True)\n",
    "# remove duplicate drug-indication pairs\n",
    "aact_rxnorm_known.drop_duplicates(inplace=True)\n",
    "\n",
    "# number of unique clinical drug-indication pairs \n",
    "print('Number of unique clinical drug-indication pairs: ' + str(len(LINCS_aact_clin)))\n",
    "\n",
    "# number of unique known drug-indication pairs\n",
    "print('Number of unique known drug-indication pairs: ' + str(len(aact_rxnorm_known)))"
   ]
  },
  {
   "cell_type": "code",
   "execution_count": 21,
   "id": "ee787be5-9b72-4c3a-8352-a5d760ea9eca",
   "metadata": {},
   "outputs": [],
   "source": [
    "# store the clinical drug-indication pairs as a txt file\n",
    "#LINCS_aact_clin.to_csv('~/LINCS/ref_data/drug_ind/processed/LINCS_clinical_ind (AACT).txt', index=False)\n",
    "# store known drug-indication pairs as a txt file\n",
    "#aact_rxnorm_known.to_csv('~/LINCS/ref_data/drug_ind/processed/LINCS_known_ind (RxNORM + AACT).txt', index=False)"
   ]
  },
  {
   "cell_type": "code",
   "execution_count": 22,
   "id": "5dc7b8f9-bc6f-4a60-9253-dbd7ef14cdda",
   "metadata": {},
   "outputs": [
    {
     "name": "stdout",
     "output_type": "stream",
     "text": [
      "Number of unique drugs available in known drug-indications dataset: 624\n",
      "Number of unique drugs available in clinical drug-indications dataset: 632\n"
     ]
    }
   ],
   "source": [
    "# create a collapsed version with one row per unique drug, containining all the indications for that drug\n",
    "collapsed_LINCS_aact_clin = LINCS_aact_clin.groupby('pert_iname')['indication'].agg(lambda row: '|'.join(row)).reset_index()\n",
    "collapsed_aact_rxnorm_known = aact_rxnorm_known.groupby('pert_iname')['indication'].agg(lambda row: '|'.join(row)).reset_index()\n",
    "\n",
    "print('Number of unique drugs available in known drug-indications dataset: ' + str(len(collapsed_LINCS_aact_clin)))\n",
    "print('Number of unique drugs available in clinical drug-indications dataset: ' + str(len(collapsed_aact_rxnorm_known)))"
   ]
  },
  {
   "cell_type": "code",
   "execution_count": 23,
   "id": "7bc9a84a-be5c-4d53-9b6c-25127490bfeb",
   "metadata": {},
   "outputs": [],
   "source": [
    "# store the collapsed dataframes as txt files\n",
    "#collapsed_LINCS_aact_clin.to_csv('~/LINCS/ref_data/drug_ind/processed/collapsed_LINCS_clinical_ind (AACT).txt', index=False)\n",
    "#collapsed_aact_rxnorm_known.to_csv('~/LINCS/ref_data/drug_ind/processed/collapsed_LINCS_known_ind (RxNORM + AACT).txt', index=False)"
   ]
  },
  {
   "cell_type": "markdown",
   "id": "eec18bcf-1660-4bc2-8b86-332db3a3a614",
   "metadata": {},
   "source": [
    "## Number of LINCS drugs in both Drug Repurposing Hub and Clinical Drug-Indications (AACT)"
   ]
  },
  {
   "cell_type": "code",
   "execution_count": 27,
   "id": "082888e1-90d4-4a1f-b21e-9d61ec48eaa0",
   "metadata": {},
   "outputs": [
    {
     "name": "stdout",
     "output_type": "stream",
     "text": [
      "Number of drug-indications shared between DRH and clincial drug-indications dataset: 488\n",
      "Number of drug-indication pairs only in Drug Repurposing Hub: 880\n"
     ]
    }
   ],
   "source": [
    "# create a dataframe containing the drug-indication pairs shared across both datasets\n",
    "intersection_ind = pd.merge(LINCS_drug_repo, LINCS_aact_clin.drop('drugbank_id', axis=1), \n",
    "                            on=['pert_iname', 'indication'], how='inner')\n",
    "\n",
    "# report number of drug-indications pairs shared\n",
    "print('Number of drug-indications shared between DRH and clincial drug-indications dataset: ' + str(len(intersection_ind)))\n",
    "print('Number of drug-indication pairs only in Drug Repurposing Hub: ' + str(len(LINCS_drug_repo) - len(intersection_ind)))"
   ]
  },
  {
   "cell_type": "code",
   "execution_count": 28,
   "id": "70f97f8c-7f4c-4b77-b8f9-fd4fd8da9d4c",
   "metadata": {},
   "outputs": [
    {
     "data": {
      "text/plain": [
       "(880, 2)"
      ]
     },
     "execution_count": 28,
     "metadata": {},
     "output_type": "execute_result"
    }
   ],
   "source": [
    "# remove these drug-indication pairs from drug repurposing hub\n",
    "# merge LINCS_drug_repo and aact_rxnorm_known\n",
    "merged_df = pd.merge(LINCS_drug_repo, LINCS_aact_clin.drop('drugbank_id', axis=1),\n",
    "                     on=['pert_iname', 'indication'], how='left', indicator=True)\n",
    "\n",
    "# filter rows that only exist in LINCS_drug_repo\n",
    "drug_repo_not_in_clin = merged_df[merged_df['_merge'] == 'left_only'].drop(columns='_merge')\n",
    "drug_repo_not_in_clin.shape"
   ]
  },
  {
   "cell_type": "code",
   "execution_count": 33,
   "id": "77362f15-9457-48d2-a816-ef5941594883",
   "metadata": {},
   "outputs": [
    {
     "data": {
      "text/html": [
       "<div>\n",
       "<style scoped>\n",
       "    .dataframe tbody tr th:only-of-type {\n",
       "        vertical-align: middle;\n",
       "    }\n",
       "\n",
       "    .dataframe tbody tr th {\n",
       "        vertical-align: top;\n",
       "    }\n",
       "\n",
       "    .dataframe thead th {\n",
       "        text-align: right;\n",
       "    }\n",
       "</style>\n",
       "<table border=\"1\" class=\"dataframe\">\n",
       "  <thead>\n",
       "    <tr style=\"text-align: right;\">\n",
       "      <th></th>\n",
       "      <th>pert_iname</th>\n",
       "      <th>indication</th>\n",
       "      <th>drugbank_id</th>\n",
       "    </tr>\n",
       "  </thead>\n",
       "  <tbody>\n",
       "    <tr>\n",
       "      <th>0</th>\n",
       "      <td>2-methoxyestradiol</td>\n",
       "      <td>Multiple Myeloma</td>\n",
       "      <td>DB02342</td>\n",
       "    </tr>\n",
       "    <tr>\n",
       "      <th>1</th>\n",
       "      <td>2-methoxyestradiol</td>\n",
       "      <td>Neoplasms, Plasma Cell</td>\n",
       "      <td>DB02342</td>\n",
       "    </tr>\n",
       "    <tr>\n",
       "      <th>2</th>\n",
       "      <td>2-methoxyestradiol</td>\n",
       "      <td>Glioblastoma</td>\n",
       "      <td>DB02342</td>\n",
       "    </tr>\n",
       "    <tr>\n",
       "      <th>3</th>\n",
       "      <td>2-methoxyestradiol</td>\n",
       "      <td>Carcinoid Tumor</td>\n",
       "      <td>DB02342</td>\n",
       "    </tr>\n",
       "    <tr>\n",
       "      <th>4</th>\n",
       "      <td>2-methoxyestradiol</td>\n",
       "      <td>Prostatic Neoplasms</td>\n",
       "      <td>DB02342</td>\n",
       "    </tr>\n",
       "  </tbody>\n",
       "</table>\n",
       "</div>"
      ],
      "text/plain": [
       "           pert_iname              indication drugbank_id\n",
       "0  2-methoxyestradiol        Multiple Myeloma     DB02342\n",
       "1  2-methoxyestradiol  Neoplasms, Plasma Cell     DB02342\n",
       "2  2-methoxyestradiol            Glioblastoma     DB02342\n",
       "3  2-methoxyestradiol         Carcinoid Tumor     DB02342\n",
       "4  2-methoxyestradiol     Prostatic Neoplasms     DB02342"
      ]
     },
     "execution_count": 33,
     "metadata": {},
     "output_type": "execute_result"
    }
   ],
   "source": [
    "LINCS_aact_clin.head()"
   ]
  },
  {
   "cell_type": "code",
   "execution_count": 32,
   "id": "bb4b95d8-31b2-4514-acb2-7197fddaf76c",
   "metadata": {},
   "outputs": [
    {
     "data": {
      "text/html": [
       "<div>\n",
       "<style scoped>\n",
       "    .dataframe tbody tr th:only-of-type {\n",
       "        vertical-align: middle;\n",
       "    }\n",
       "\n",
       "    .dataframe tbody tr th {\n",
       "        vertical-align: top;\n",
       "    }\n",
       "\n",
       "    .dataframe thead th {\n",
       "        text-align: right;\n",
       "    }\n",
       "</style>\n",
       "<table border=\"1\" class=\"dataframe\">\n",
       "  <thead>\n",
       "    <tr style=\"text-align: right;\">\n",
       "      <th></th>\n",
       "      <th>pert_iname</th>\n",
       "      <th>indication</th>\n",
       "    </tr>\n",
       "  </thead>\n",
       "  <tbody>\n",
       "    <tr>\n",
       "      <th>2</th>\n",
       "      <td>abacavir</td>\n",
       "      <td>HIV</td>\n",
       "    </tr>\n",
       "    <tr>\n",
       "      <th>3</th>\n",
       "      <td>abiraterone-acetate</td>\n",
       "      <td>Prostatic Neoplasms</td>\n",
       "    </tr>\n",
       "    <tr>\n",
       "      <th>4</th>\n",
       "      <td>acarbose</td>\n",
       "      <td>Diabetes Mellitus</td>\n",
       "    </tr>\n",
       "    <tr>\n",
       "      <th>5</th>\n",
       "      <td>acebutolol</td>\n",
       "      <td>Hypertension</td>\n",
       "    </tr>\n",
       "    <tr>\n",
       "      <th>8</th>\n",
       "      <td>acexamic-acid</td>\n",
       "      <td>Wound Healing</td>\n",
       "    </tr>\n",
       "  </tbody>\n",
       "</table>\n",
       "</div>"
      ],
      "text/plain": [
       "            pert_iname           indication\n",
       "2             abacavir                  HIV\n",
       "3  abiraterone-acetate  Prostatic Neoplasms\n",
       "4             acarbose    Diabetes Mellitus\n",
       "5           acebutolol         Hypertension\n",
       "8        acexamic-acid        Wound Healing"
      ]
     },
     "execution_count": 32,
     "metadata": {},
     "output_type": "execute_result"
    }
   ],
   "source": [
    "drug_repo_not_in_clin.head()"
   ]
  },
  {
   "cell_type": "code",
   "execution_count": 30,
   "id": "95a7d432-6873-4d6c-9b64-47f42ecd61ac",
   "metadata": {},
   "outputs": [],
   "source": [
    "# save drug repurposing hub without the shared drug-indication pairs in RxNorm and AACT\n",
    "#drug_repo_not_in_clin.to_csv('~/LINCS/ref_data/drug_ind/normalized/LINCS_drug_repo_not_in_clin.txt', index=False)"
   ]
  },
  {
   "cell_type": "code",
   "execution_count": 31,
   "id": "0e9ec834-34fb-42b7-bf0e-7bb1a246b77f",
   "metadata": {},
   "outputs": [
    {
     "data": {
      "text/html": [
       "<div>\n",
       "<style scoped>\n",
       "    .dataframe tbody tr th:only-of-type {\n",
       "        vertical-align: middle;\n",
       "    }\n",
       "\n",
       "    .dataframe tbody tr th {\n",
       "        vertical-align: top;\n",
       "    }\n",
       "\n",
       "    .dataframe thead th {\n",
       "        text-align: right;\n",
       "    }\n",
       "</style>\n",
       "<table border=\"1\" class=\"dataframe\">\n",
       "  <thead>\n",
       "    <tr style=\"text-align: right;\">\n",
       "      <th></th>\n",
       "      <th>pert_iname</th>\n",
       "      <th>indication</th>\n",
       "    </tr>\n",
       "  </thead>\n",
       "  <tbody>\n",
       "    <tr>\n",
       "      <th>0</th>\n",
       "      <td>5-aminolevulinic-acid</td>\n",
       "      <td>Keratosis, Actinic|Glioma</td>\n",
       "    </tr>\n",
       "    <tr>\n",
       "      <th>1</th>\n",
       "      <td>L-citrulline</td>\n",
       "      <td>Hypertension|Erectile Dysfunction</td>\n",
       "    </tr>\n",
       "    <tr>\n",
       "      <th>2</th>\n",
       "      <td>SN-38</td>\n",
       "      <td>Colorectal Neoplasms</td>\n",
       "    </tr>\n",
       "    <tr>\n",
       "      <th>3</th>\n",
       "      <td>abacavir</td>\n",
       "      <td>HIV</td>\n",
       "    </tr>\n",
       "    <tr>\n",
       "      <th>4</th>\n",
       "      <td>abiraterone-acetate</td>\n",
       "      <td>Prostatic Neoplasms</td>\n",
       "    </tr>\n",
       "  </tbody>\n",
       "</table>\n",
       "</div>"
      ],
      "text/plain": [
       "              pert_iname                         indication\n",
       "0  5-aminolevulinic-acid          Keratosis, Actinic|Glioma\n",
       "1           L-citrulline  Hypertension|Erectile Dysfunction\n",
       "2                  SN-38               Colorectal Neoplasms\n",
       "3               abacavir                                HIV\n",
       "4    abiraterone-acetate                Prostatic Neoplasms"
      ]
     },
     "execution_count": 31,
     "metadata": {},
     "output_type": "execute_result"
    }
   ],
   "source": [
    "# create another version with all indications for one drug\n",
    "collapsed_drug_repo_not_in_clin = drug_repo_not_in_clin.groupby('pert_iname')['indication'].agg(lambda row: '|'.join(row)).reset_index()\n",
    "# save file to the same directory\n",
    "#collapsed_drug_repo_not_in_clin.to_csv('~/LINCS/ref_data/drug_ind/normalized/collapsed_LINCS_drug_repo_not_in_clin.txt', index=False)\n",
    "collapsed_drug_repo.head()"
   ]
  },
  {
   "cell_type": "markdown",
   "id": "46f8bed0-85cb-413b-a04f-04d6734796ec",
   "metadata": {},
   "source": [
    "## Checking if clinical drug indications dataset contain drug indication pairs from the known dataset"
   ]
  },
  {
   "cell_type": "code",
   "execution_count": null,
   "id": "673af8ea-3f3f-4769-bbd3-7a259e6a88bf",
   "metadata": {},
   "outputs": [],
   "source": [
    "# store the drug-indication pairs in both the known and clinical dataset\n",
    "shared_drug_ind = pd.merge(LINCS_aact_clin.drop('drugbank_id', axis=1), \n",
    "                  aact_rxnorm_known.drop('drugbank_id', axis=1), \n",
    "                  on=['pert_iname', 'indication'], how='inner')\n",
    "\n",
    "print('Number of clinical drug-indications pairs in known dataset: ' + str(len(shared)))"
   ]
  },
  {
   "cell_type": "code",
   "execution_count": null,
   "id": "eedc13ad-78b2-4252-aad1-e8f0ebbd3cfa",
   "metadata": {},
   "outputs": [],
   "source": [
    "# remove these drug-indication pairs from known dataset\n",
    "# merge known and clinical datasets\n",
    "merged_df = pd.merge(aact_rxnorm_known.drop('drugbank_id', axis=1), LINCS_aact_clin.drop('drugbank_id', axis=1),\n",
    "                     on=['pert_iname', 'indication'], how='left', indicator=True)\n",
    "\n",
    "# remove rows shared across the known and clinical datasets\n",
    "aact_rxnorm_known_not_in_clin = merged_df[merged_df['_merge'] == 'left_only'].drop(columns='_merge')\n",
    "aact_rxnorm_known_not_in_clin.shape"
   ]
  },
  {
   "cell_type": "code",
   "execution_count": null,
   "id": "b52d2661-4cd6-4c7e-96a9-1b4dfb41c73f",
   "metadata": {},
   "outputs": [],
   "source": [
    "# store this data as a txt file\n",
    "#aact_rxnorm_known_not_in_clin.to_csv('~/LINCS/ref_data/drug_ind/normalized/aact_rxnorm_known_not_in_clin.txt', index=False)"
   ]
  },
  {
   "cell_type": "code",
   "execution_count": null,
   "id": "6fdb4180-c411-40ba-b816-073ad77773ed",
   "metadata": {},
   "outputs": [],
   "source": [
    "# create another version with all indications for one drug\n",
    "collapsed_aact_rxnorm_known_not_in_clin = aact_rxnorm_known_not_in_clin.groupby('pert_iname')['indication'].agg(lambda row: '|'.join(row)).reset_index()\n",
    "# save file to the same directory\n",
    "#collapsed_aact_rxnorm_known_not_in_clin.to_csv('~/LINCS/ref_data/drug_ind/normalized/collapsed_aact_rxnorm_known_not_in_clin.txt', index=False)\n",
    "collapsed_drug_repo.head()"
   ]
  }
 ],
 "metadata": {
  "kernelspec": {
   "display_name": "CMapPy_env",
   "language": "python",
   "name": "cmappy_env"
  },
  "language_info": {
   "codemirror_mode": {
    "name": "ipython",
    "version": 2
   },
   "file_extension": ".py",
   "mimetype": "text/x-python",
   "name": "python",
   "nbconvert_exporter": "python",
   "pygments_lexer": "ipython2",
   "version": "2.7.13"
  }
 },
 "nbformat": 4,
 "nbformat_minor": 5
}
